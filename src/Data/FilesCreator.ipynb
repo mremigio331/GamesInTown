{
 "cells": [
  {
   "cell_type": "code",
   "execution_count": 1,
   "id": "e95e9b08-b2c7-4918-89ff-3f3ac9dc9682",
   "metadata": {},
   "outputs": [],
   "source": [
    "import json\n",
    "import requests"
   ]
  },
  {
   "cell_type": "code",
   "execution_count": null,
   "id": "1e93f636-1719-4975-9f3e-6219906fbfa7",
   "metadata": {},
   "outputs": [],
   "source": []
  },
  {
   "cell_type": "code",
   "execution_count": 2,
   "id": "64ab30ff-1c76-40a4-bf90-06b762080801",
   "metadata": {},
   "outputs": [],
   "source": [
    "add_ons = {}"
   ]
  },
  {
   "cell_type": "code",
   "execution_count": 37,
   "id": "2bb987af-452b-4a66-9428-2ddd673258e2",
   "metadata": {},
   "outputs": [],
   "source": [
    "nhl_dict = requests.get('http://site.api.espn.com/apis/site/v2/sports/hockey/nhl/teams')\n",
    "nhl_dict = nhl_dict.json()\n",
    "\n",
    "mlb_dict = requests.get('http://site.api.espn.com/apis/site/v2/sports/baseball/mlb/teams')\n",
    "mlb_dict = mlb_dict.json()\n",
    "\n",
    "nfl_dict = requests.get('http://sports.core.api.espn.com/v2/sports/football/leagues/nfl/franchises?limit=50')\n",
    "nfl_dict = nfl_dict.json()\n",
    "\n",
    "nba_dict = requests.get('http://site.api.espn.com/apis/site/v2/sports/basketball/nba/teams')\n",
    "nba_dict = nba_dict.json()\n",
    "\n",
    "#nhl_dict = requests.get('http://site.api.espn.com/apis/site/v2/sports/hockey/nhl/teams')\n",
    "#nhl_dict = nhl_dict.json()"
   ]
  },
  {
   "cell_type": "code",
   "execution_count": 40,
   "id": "9d4394b2-42d9-4639-8754-179843ee7cc3",
   "metadata": {},
   "outputs": [
    {
     "ename": "SyntaxError",
     "evalue": "invalid syntax. Perhaps you forgot a comma? (1973168445.py, line 16)",
     "output_type": "error",
     "traceback": [
      "\u001b[0;36m  Cell \u001b[0;32mIn[40], line 16\u001b[0;36m\u001b[0m\n\u001b[0;31m    'teamLink': team_info['team']['$ref']\u001b[0m\n\u001b[0m                ^\u001b[0m\n\u001b[0;31mSyntaxError\u001b[0m\u001b[0;31m:\u001b[0m invalid syntax. Perhaps you forgot a comma?\n"
     ]
    }
   ],
   "source": [
    "team_links = nfl_dict['items']\n",
    "for team in team_links:\n",
    "    team_info = requests.get(team['$ref'])\n",
    "    team_info = team_info.json()\n",
    "    teamLink = requests.get(team_info['team']['$ref'])\n",
    "    teamLink = teamLink.json()\n",
    "    name = teamLink['displayName']\n",
    "    logo = teamLink['logos'][0]['href']\n",
    "    color = teamLink['color']\n",
    "    alternateColor = teamLink['alternateColor']\n",
    "    add_ons.update({\n",
    "        name: {\n",
    "            'logo': logo,\n",
    "            'color': color,\n",
    "            'alternateColor': alternateColor,\n",
    "            'teamLink': team_info['team']['$ref']\n",
    "            'venue': {\n",
    "                'name': teamLink['team']['franchise']['venue']['fullName'],\n",
    "                'image': teamLink['team']['franchise']['venue']['images'][0]['href'],\n",
    "                'capacity': teamLink['team']['franchise']['venue']['capacity'],\n",
    "                'link': teamLink['team']['franchise']['venue']['$ref']\n",
    "            }\n",
    "        }})\n",
    "    \n",
    "    \n"
   ]
  },
  {
   "cell_type": "code",
   "execution_count": 6,
   "id": "2c4b5ae8-40ba-4289-92d9-3113dbdecff4",
   "metadata": {},
   "outputs": [
    {
     "data": {
      "text/plain": [
       "dict_keys(['sports'])"
      ]
     },
     "execution_count": 6,
     "metadata": {},
     "output_type": "execute_result"
    }
   ],
   "source": [
    "nhl_dict.keys()"
   ]
  },
  {
   "cell_type": "code",
   "execution_count": 20,
   "id": "293819d3-35d0-4a82-85db-e6cd7e8d645c",
   "metadata": {},
   "outputs": [],
   "source": [
    "team_number = nhl_dict['sports'][0]['leagues'][0]['teams'][0]['team']['id']\n",
    "team_info = requests.get(f'http://site.api.espn.com/apis/site/v2/sports/hockey/nhl/teams/{team_number}')\n",
    "team_info = team_info.json()"
   ]
  },
  {
   "cell_type": "code",
   "execution_count": 22,
   "id": "5fb4297d-d63b-42df-9563-fd2d610ae141",
   "metadata": {},
   "outputs": [
    {
     "data": {
      "text/plain": [
       "dict_keys(['team'])"
      ]
     },
     "execution_count": 22,
     "metadata": {},
     "output_type": "execute_result"
    }
   ],
   "source": [
    "team_info.keys()"
   ]
  },
  {
   "cell_type": "code",
   "execution_count": 35,
   "id": "d2184f25-3cf2-4a4c-afa2-60f8906027ea",
   "metadata": {},
   "outputs": [
    {
     "data": {
      "text/plain": [
       "17174"
      ]
     },
     "execution_count": 35,
     "metadata": {},
     "output_type": "execute_result"
    }
   ],
   "source": [
    "team_info['team']['franchise']['venue']['capacity']"
   ]
  },
  {
   "cell_type": "code",
   "execution_count": 54,
   "id": "1ad303d6-7617-4fb0-8cbf-addcab3478e1",
   "metadata": {},
   "outputs": [
    {
     "name": "stdout",
     "output_type": "stream",
     "text": [
      "{'$ref': 'http://sports.core.api.espn.pvt/v2/sports/hockey/leagues/nhl/venues/1842?lang=en&region=us', 'id': '1842', 'fullName': 'Honda Center', 'address': {'city': 'Anaheim', 'state': 'CA', 'zipCode': '92899', 'country': 'USA'}, 'capacity': 17174, 'grass': False, 'indoor': True, 'images': [{'href': 'https://a.espncdn.com/i/venues/nhl/day/1842.jpg', 'width': 2000, 'height': 1125, 'alt': '', 'rel': ['full', 'day']}]}\n",
      "{'$ref': 'http://sports.core.api.espn.pvt/v2/sports/hockey/leagues/nhl/venues/1829?lang=en&region=us', 'id': '1829', 'fullName': 'Gila River Arena', 'address': {'city': 'Glendale', 'state': 'AZ', 'zipCode': '85318', 'country': 'USA'}, 'capacity': 17125, 'grass': False, 'indoor': True, 'images': [{'href': 'https://a.espncdn.com/i/venues/nhl/day/1829.jpg', 'width': 2000, 'height': 1125, 'alt': '', 'rel': ['full', 'day']}]}\n",
      "{'$ref': 'http://sports.core.api.espn.pvt/v2/sports/hockey/leagues/nhl/venues/1824?lang=en&region=us', 'id': '1824', 'fullName': 'TD Garden', 'address': {'city': 'Boston', 'state': 'MA', 'zipCode': '02114', 'country': 'USA'}, 'capacity': 17850, 'grass': False, 'indoor': True, 'images': [{'href': 'https://a.espncdn.com/i/venues/nhl/day/1824.jpg', 'width': 2000, 'height': 1125, 'alt': '', 'rel': ['full', 'day']}]}\n",
      "{'$ref': 'http://sports.core.api.espn.pvt/v2/sports/hockey/leagues/nhl/venues/1848?lang=en&region=us', 'id': '1848', 'fullName': 'KeyBank Center', 'address': {'city': 'Buffalo', 'state': 'NY', 'zipCode': '14280', 'country': 'USA'}, 'capacity': 19070, 'grass': False, 'indoor': True, 'images': [{'href': 'https://a.espncdn.com/i/venues/nhl/day/1848.jpg', 'width': 2000, 'height': 1125, 'alt': '', 'rel': ['full', 'day']}]}\n",
      "{'$ref': 'http://sports.core.api.espn.pvt/v2/sports/hockey/leagues/nhl/venues/1843?lang=en&region=us', 'id': '1843', 'fullName': 'Scotiabank Saddledome', 'address': {'city': 'Calgary', 'state': 'AB', 'country': 'Canada'}, 'capacity': 19289, 'grass': False, 'indoor': True, 'images': [{'href': 'https://a.espncdn.com/i/venues/nhl/day/1843.jpg', 'width': 2000, 'height': 1125, 'alt': '', 'rel': ['full', 'day']}]}\n",
      "{'$ref': 'http://sports.core.api.espn.pvt/v2/sports/hockey/leagues/nhl/venues/999?lang=en&region=us', 'id': '999', 'fullName': 'PNC Arena', 'address': {'city': 'Raleigh', 'state': 'NC', 'country': 'USA'}, 'capacity': 18680, 'grass': False, 'indoor': True, 'images': [{'href': 'https://a.espncdn.com/i/venues/nhl/day/999.jpg', 'width': 2000, 'height': 1125, 'alt': '', 'rel': ['full', 'day']}]}\n",
      "{'$ref': 'http://sports.core.api.espn.pvt/v2/sports/hockey/leagues/nhl/venues/1847?lang=en&region=us', 'id': '1847', 'fullName': 'United Center', 'address': {'city': 'Chicago', 'state': 'IL', 'zipCode': '60701', 'country': 'USA'}, 'capacity': 19717, 'grass': False, 'indoor': True, 'images': [{'href': 'https://a.espncdn.com/i/venues/nhl/day/1847.jpg', 'width': 2000, 'height': 1125, 'alt': '', 'rel': ['full', 'day']}]}\n",
      "{'$ref': 'http://sports.core.api.espn.pvt/v2/sports/hockey/leagues/nhl/venues/892?lang=en&region=us', 'id': '892', 'fullName': 'Ball Arena', 'address': {'city': 'Denver', 'state': 'CO', 'zipCode': '80299', 'country': 'USA'}, 'capacity': 18007, 'grass': False, 'indoor': True, 'images': [{'href': 'https://a.espncdn.com/i/venues/nhl/day/892.jpg', 'width': 2000, 'height': 1125, 'alt': '', 'rel': ['full', 'day']}]}\n",
      "{'$ref': 'http://sports.core.api.espn.pvt/v2/sports/hockey/leagues/nhl/venues/1828?lang=en&region=us', 'id': '1828', 'fullName': 'Nationwide Arena', 'address': {'city': 'Columbus', 'state': 'OH', 'zipCode': '43299', 'country': 'USA'}, 'capacity': 18144, 'grass': False, 'indoor': True, 'images': [{'href': 'https://a.espncdn.com/i/venues/nhl/day/1828.jpg', 'width': 2000, 'height': 1125, 'alt': '', 'rel': ['full', 'day']}]}\n",
      "{'$ref': 'http://sports.core.api.espn.pvt/v2/sports/hockey/leagues/nhl/venues/516?lang=en&region=us', 'id': '516', 'fullName': 'American Airlines Center', 'address': {'city': 'Dallas', 'state': 'TX', 'zipCode': '75398', 'country': 'USA'}, 'capacity': 18532, 'grass': False, 'indoor': True, 'images': [{'href': 'https://a.espncdn.com/i/venues/nhl/day/516.jpg', 'width': 2000, 'height': 1125, 'alt': '', 'rel': ['full', 'day']}]}\n",
      "{'$ref': 'http://sports.core.api.espn.pvt/v2/sports/hockey/leagues/nhl/venues/5404?lang=en&region=us', 'id': '5404', 'fullName': 'Little Caesars Arena', 'address': {'city': 'Detroit', 'state': 'MI', 'zipCode': '48288', 'country': 'USA'}, 'capacity': 19515, 'grass': False, 'indoor': True, 'images': [{'href': 'https://a.espncdn.com/i/venues/nhl/day/5404.jpg', 'width': 2000, 'height': 1125, 'alt': '', 'rel': ['full', 'day']}]}\n",
      "{'$ref': 'http://sports.core.api.espn.pvt/v2/sports/hockey/leagues/nhl/venues/5282?lang=en&region=us', 'id': '5282', 'fullName': 'Rogers Place', 'address': {'city': 'Edmonton', 'state': 'AB', 'country': 'Canada'}, 'capacity': 18641, 'grass': False, 'indoor': True, 'images': [{'href': 'https://a.espncdn.com/i/venues/nhl/day/5282.jpg', 'width': 2000, 'height': 1125, 'alt': '', 'rel': ['full', 'day']}]}\n",
      "{'$ref': 'http://sports.core.api.espn.pvt/v2/sports/hockey/leagues/nhl/venues/1840?lang=en&region=us', 'id': '1840', 'fullName': 'Amerant Bank Arena', 'address': {'city': 'Sunrise', 'state': 'FL', 'country': 'USA'}, 'capacity': 17040, 'grass': False, 'indoor': True, 'images': [{'href': 'https://a.espncdn.com/i/venues/nhl/day/1840.jpg', 'width': 2000, 'height': 1125, 'alt': '', 'rel': ['full', 'day']}]}\n",
      "{'$ref': 'http://sports.core.api.espn.pvt/v2/sports/hockey/leagues/nhl/venues/1841?lang=en&region=us', 'id': '1841', 'fullName': 'crypto.com Arena', 'address': {'city': 'Los Angeles', 'state': 'CA', 'zipCode': '90185', 'country': 'USA'}, 'capacity': 18230, 'grass': False, 'indoor': True, 'images': [{'href': 'https://a.espncdn.com/i/venues/nhl/day/1841.jpg', 'width': 2000, 'height': 1125, 'alt': '', 'rel': ['full', 'day']}]}\n",
      "{'$ref': 'http://sports.core.api.espn.pvt/v2/sports/hockey/leagues/nhl/venues/1835?lang=en&region=us', 'id': '1835', 'fullName': 'Xcel Energy Center', 'address': {'city': 'Saint Paul', 'state': 'MN', 'zipCode': '55191', 'country': 'USA'}, 'capacity': 17954, 'grass': False, 'indoor': True, 'images': [{'href': 'https://a.espncdn.com/i/venues/nhl/day/1835.jpg', 'width': 2000, 'height': 1125, 'alt': '', 'rel': ['full', 'day']}]}\n",
      "{'$ref': 'http://sports.core.api.espn.pvt/v2/sports/hockey/leagues/nhl/venues/1831?lang=en&region=us', 'id': '1831', 'fullName': 'Bell Centre', 'address': {'city': 'Montreal', 'state': 'QC', 'country': 'Canada'}, 'capacity': 21273, 'grass': False, 'indoor': True, 'images': [{'href': 'https://a.espncdn.com/i/venues/nhl/day/1831.jpg', 'width': 2000, 'height': 1125, 'alt': '', 'rel': ['full', 'day']}]}\n",
      "{'$ref': 'http://sports.core.api.espn.pvt/v2/sports/hockey/leagues/nhl/venues/1834?lang=en&region=us', 'id': '1834', 'fullName': 'Bridgestone Arena', 'address': {'city': 'Nashville', 'state': 'TN', 'zipCode': '37250', 'country': 'USA'}, 'capacity': 17113, 'grass': False, 'indoor': True, 'images': [{'href': 'https://a.espncdn.com/i/venues/nhl/day/1834.jpg', 'width': 2000, 'height': 1125, 'alt': '', 'rel': ['full', 'day']}]}\n",
      "11\n",
      "{'$ref': 'http://sports.core.api.espn.pvt/v2/sports/hockey/leagues/nhl/franchises/11?lang=en&region=us', 'id': '11', 'uid': 's:70~l:90~f:11', 'slug': 'new-jersey-devils', 'location': 'New Jersey', 'name': 'Devils', 'abbreviation': 'NJ', 'displayName': 'New Jersey Devils', 'shortDisplayName': 'Devils', 'color': 'e30b2b', 'isActive': True, 'venue': {'$ref': 'http://sports.core.api.espn.pvt/v2/sports/hockey/leagues/nhl/venues/2562?lang=en&region=us', 'id': '2562', 'fullName': 'IZOD Center', 'address': {'city': 'East Rutherford', 'state': 'NJ', 'zipCode': '07073', 'country': 'USA'}, 'capacity': 19040, 'grass': False, 'indoor': False, 'images': []}, 'team': {'$ref': 'http://sports.core.api.espn.pvt/v2/sports/hockey/leagues/nhl/seasons/2024/teams/11?lang=en&region=us'}}\n",
      "{'$ref': 'http://sports.core.api.espn.pvt/v2/sports/hockey/leagues/nhl/venues/7226?lang=en&region=us', 'id': '7226', 'fullName': 'UBS Arena', 'address': {'city': 'Elmont', 'state': 'NY', 'zipCode': '11003', 'country': 'USA'}, 'capacity': 17113, 'grass': False, 'indoor': True, 'images': [{'href': 'https://a.espncdn.com/i/venues/nhl/day/7226.jpg', 'width': 2000, 'height': 1125, 'alt': '', 'rel': ['full', 'day']}]}\n",
      "{'$ref': 'http://sports.core.api.espn.pvt/v2/sports/hockey/leagues/nhl/venues/1830?lang=en&region=us', 'id': '1830', 'fullName': 'Madison Square Garden', 'address': {'city': 'New York', 'state': 'NY', 'zipCode': '10292', 'country': 'USA'}, 'capacity': 18006, 'grass': False, 'indoor': True, 'images': [{'href': 'https://a.espncdn.com/i/venues/nhl/day/1830.jpg', 'width': 2000, 'height': 1125, 'alt': '', 'rel': ['full', 'day']}]}\n",
      "{'$ref': 'http://sports.core.api.espn.pvt/v2/sports/hockey/leagues/nhl/venues/1832?lang=en&region=us', 'id': '1832', 'fullName': 'Canadian Tire Centre', 'address': {'city': 'Ottawa', 'state': 'ON', 'country': 'Canada'}, 'capacity': 19153, 'grass': False, 'indoor': True, 'images': [{'href': 'https://a.espncdn.com/i/venues/nhl/day/1832.jpg', 'width': 2000, 'height': 1125, 'alt': '', 'rel': ['full', 'day']}]}\n",
      "{'$ref': 'http://sports.core.api.espn.pvt/v2/sports/hockey/leagues/nhl/venues/1845?lang=en&region=us', 'id': '1845', 'fullName': 'Wells Fargo Center', 'address': {'city': 'Philadelphia', 'state': 'PA', 'zipCode': '19255', 'country': 'USA'}, 'capacity': 19538, 'grass': False, 'indoor': True, 'images': [{'href': 'https://a.espncdn.com/i/venues/nhl/day/1845.jpg', 'width': 2000, 'height': 1125, 'alt': '', 'rel': ['full', 'day']}]}\n",
      "{'$ref': 'http://sports.core.api.espn.pvt/v2/sports/hockey/leagues/nhl/venues/1837?lang=en&region=us', 'id': '1837', 'fullName': 'PPG Paints Arena', 'address': {'city': 'Pittsburgh', 'state': 'PA', 'zipCode': '15295', 'country': 'USA'}, 'capacity': 18187, 'grass': False, 'indoor': True, 'images': [{'href': 'https://a.espncdn.com/i/venues/nhl/day/1837.jpg', 'width': 2000, 'height': 1125, 'alt': '', 'rel': ['full', 'day']}]}\n",
      "{'$ref': 'http://sports.core.api.espn.pvt/v2/sports/hockey/leagues/nhl/venues/1653?lang=en&region=us', 'id': '1653', 'fullName': 'SAP Center at San Jose', 'address': {'city': 'San Jose', 'state': 'CA', 'zipCode': '95196', 'country': 'USA'}, 'capacity': 17562, 'grass': False, 'indoor': True, 'images': [{'href': 'https://a.espncdn.com/i/venues/nhl/day/1653.jpg', 'width': 2000, 'height': 1125, 'alt': '', 'rel': ['full', 'day']}]}\n",
      "{'$ref': 'http://sports.core.api.espn.pvt/v2/sports/hockey/leagues/nhl/venues/7224?lang=en&region=us', 'id': '7224', 'fullName': 'Climate Pledge Arena', 'address': {'city': 'Seattle', 'state': 'WA', 'zipCode': '98199', 'country': 'USA'}, 'capacity': 17100, 'grass': False, 'indoor': True, 'images': [{'href': 'https://a.espncdn.com/i/venues/nhl/day/7224.jpg', 'width': 2000, 'height': 1125, 'alt': '', 'rel': ['full', 'day']}]}\n",
      "{'$ref': 'http://sports.core.api.espn.pvt/v2/sports/hockey/leagues/nhl/venues/1839?lang=en&region=us', 'id': '1839', 'fullName': 'Enterprise Center', 'address': {'city': 'Saint Louis', 'state': 'MO', 'zipCode': '63103', 'country': 'USA'}, 'capacity': 18096, 'grass': False, 'indoor': True, 'images': [{'href': 'https://a.espncdn.com/i/venues/nhl/day/1839.jpg', 'width': 2000, 'height': 1125, 'alt': '', 'rel': ['full', 'day']}]}\n",
      "{'$ref': 'http://sports.core.api.espn.pvt/v2/sports/hockey/leagues/nhl/venues/1396?lang=en&region=us', 'id': '1396', 'fullName': 'Amalie Arena', 'address': {'city': 'Tampa', 'state': 'FL', 'zipCode': '33697', 'country': 'USA'}, 'capacity': 19092, 'grass': False, 'indoor': True, 'images': [{'href': 'https://a.espncdn.com/i/venues/nhl/day/1396.jpg', 'width': 2000, 'height': 1125, 'alt': '', 'rel': ['full', 'day']}]}\n",
      "{'$ref': 'http://sports.core.api.espn.pvt/v2/sports/hockey/leagues/nhl/venues/1838?lang=en&region=us', 'id': '1838', 'fullName': 'Scotiabank Arena', 'address': {'city': 'Toronto', 'state': 'ON', 'country': 'Canada'}, 'capacity': 18819, 'grass': False, 'indoor': True, 'images': [{'href': 'https://a.espncdn.com/i/venues/nhl/day/1838.jpg', 'width': 2000, 'height': 1125, 'alt': '', 'rel': ['full', 'day']}]}\n",
      "{'$ref': 'http://sports.core.api.espn.pvt/v2/sports/hockey/leagues/nhl/venues/1833?lang=en&region=us', 'id': '1833', 'fullName': 'Rogers Arena', 'address': {'city': 'Vancouver', 'state': 'BC', 'country': 'Canada'}, 'capacity': 18910, 'grass': False, 'indoor': True, 'images': [{'href': 'https://a.espncdn.com/i/venues/nhl/day/1833.jpg', 'width': 2000, 'height': 1125, 'alt': '', 'rel': ['full', 'day']}]}\n",
      "{'$ref': 'http://sports.core.api.espn.pvt/v2/sports/hockey/leagues/nhl/venues/5060?lang=en&region=us', 'id': '5060', 'fullName': 'T-Mobile Arena', 'address': {'city': 'Las Vegas', 'state': 'NV', 'zipCode': '89199', 'country': 'USA'}, 'capacity': 17367, 'grass': False, 'indoor': True, 'images': [{'href': 'https://a.espncdn.com/i/venues/nhl/day/5060.jpg', 'width': 2000, 'height': 1125, 'alt': '', 'rel': ['full', 'day']}]}\n",
      "{'$ref': 'http://sports.core.api.espn.pvt/v2/sports/hockey/leagues/nhl/venues/1823?lang=en&region=us', 'id': '1823', 'fullName': 'Capital One Arena', 'address': {'city': 'Washington', 'state': 'DC', 'zipCode': '20004', 'country': 'USA'}, 'capacity': 18506, 'grass': False, 'indoor': True, 'images': [{'href': 'https://a.espncdn.com/i/venues/nhl/day/1823.jpg', 'width': 2000, 'height': 1125, 'alt': '', 'rel': ['full', 'day']}]}\n",
      "28\n",
      "{'$ref': 'http://sports.core.api.espn.pvt/v2/sports/hockey/leagues/nhl/franchises/28?lang=en&region=us', 'id': '28', 'uid': 's:70~l:90~f:28', 'slug': 'winnipeg-jets', 'location': 'Winnipeg', 'name': 'Jets', 'abbreviation': 'WPG', 'displayName': 'Winnipeg Jets', 'shortDisplayName': 'Jets', 'color': '002d62', 'isActive': True, 'venue': {'$ref': 'http://sports.core.api.espn.pvt/v2/sports/hockey/leagues/nhl/venues/1827?lang=en&region=us', 'id': '1827', 'fullName': 'State Farm Arena', 'address': {'city': 'Atlanta', 'state': 'GA', 'zipCode': '39901', 'country': 'USA'}, 'capacity': 18545, 'grass': False, 'indoor': False, 'images': []}, 'team': {'$ref': 'http://sports.core.api.espn.pvt/v2/sports/hockey/leagues/nhl/seasons/2024/teams/28?lang=en&region=us'}}\n"
     ]
    }
   ],
   "source": [
    "for x in nhl_dict['sports'][0]['leagues'][0]['teams']:\n",
    "    team_number = x['team']['id']\n",
    "    team_link = f'http://site.api.espn.com/apis/site/v2/sports/hockey/nhl/teams/{team_number}'\n",
    "    team_info = requests.get(team_link)\n",
    "    team_info = team_info.json()\n",
    "    \n",
    "    \n",
    "    name = team_info['team']['name']\n",
    "    logo = team_info['team']['logos'][0]['href']\n",
    "    color = team_info['team']['color']\n",
    "    alternateColor = team_info['team']['alternateColor']\n",
    "    teamLink = team_link\n",
    "    try:\n",
    "        image = team_info['team']['franchise']['venue']['images'][0]['href'],\n",
    "        print(team_info['team']['franchise']['venue'])\n",
    "    except:\n",
    "        print(team_number)\n",
    "        print(team_info['team']['franchise'])\n",
    "    add_ons.update({\n",
    "        name: {\n",
    "            'logo': logo,\n",
    "            'color': color,\n",
    "            'alternateColor': alternateColor,\n",
    "            'teamLink': team_link,\n",
    "            'venue': {\n",
    "                'name': team_info['team']['franchise']['venue']['fullName'],\n",
    "                \n",
    "                'capacity': team_info['team']['franchise']['venue']['capacity'],\n",
    "                'link': team_info['team']['franchise']['venue']['$ref']\n",
    "            }\n",
    "        }})"
   ]
  },
  {
   "cell_type": "code",
   "execution_count": null,
   "id": "e0f1ba64-3504-4e11-bf26-f29ec998c554",
   "metadata": {},
   "outputs": [],
   "source": [
    "for x in nba_dict['sports'][0]['leagues'][0]['teams']:\n",
    "    name = x['team']['displayName']\n",
    "    logo = x['team']['logos'][0]['href']\n",
    "    color = x['team']['color']\n",
    "    alternateColor = x['team']['alternateColor']\n",
    "    teamLink = ['$ref']\n",
    "    add_ons.update({\n",
    "        name: {\n",
    "            'logo': logo,\n",
    "            'color': color,\n",
    "            'alternateColor': alternateColor,\n",
    "            'teamLink': x['team']['$ref']\n",
    "        }})"
   ]
  },
  {
   "cell_type": "code",
   "execution_count": null,
   "id": "b47d12bb-dac4-4ce4-b8e4-4ea6d04571f2",
   "metadata": {},
   "outputs": [],
   "source": [
    "for x in mlb_dict['sports'][0]['leagues'][0]['teams']:\n",
    "    name = x['team']['displayName']\n",
    "    logo = x['team']['logos'][0]['href']\n",
    "    color = x['team']['color']\n",
    "    alternateColor = x['team']['alternateColor']\n",
    "    teamLink = ['$ref']\n",
    "    add_ons.update({\n",
    "        name: {\n",
    "            'logo': logo,\n",
    "            'color': color,\n",
    "            'alternateColor': alternateColor,\n",
    "            'teamLink': x['team']['$ref']\n",
    "        }})"
   ]
  },
  {
   "cell_type": "code",
   "execution_count": null,
   "id": "a951a8eb-e8b8-4212-afca-3026ee613fc8",
   "metadata": {},
   "outputs": [],
   "source": []
  },
  {
   "cell_type": "code",
   "execution_count": null,
   "id": "1cd1d4f8-1fe2-4e7c-aaed-618a93188c2e",
   "metadata": {},
   "outputs": [],
   "source": [
    "f = open('teams.json')\n",
    "data = json.load(f)\n",
    "t = open('timezones.json')\n",
    "timezones = json.load(t)"
   ]
  },
  {
   "cell_type": "code",
   "execution_count": null,
   "id": "35dd2f1e-0b89-4c5f-b326-415bb6f42139",
   "metadata": {},
   "outputs": [],
   "source": [
    "sorted(list(data.keys()))"
   ]
  },
  {
   "cell_type": "code",
   "execution_count": null,
   "id": "cf5649bd-3db2-46ff-876e-7d3e67ea51b1",
   "metadata": {},
   "outputs": [],
   "source": [
    "data['MLB'][0]"
   ]
  },
  {
   "cell_type": "code",
   "execution_count": null,
   "id": "006048ce-2951-48f1-b706-5bb36dbbbdda",
   "metadata": {},
   "outputs": [],
   "source": [
    "clean_data = {}\n",
    "all_teams_info = {}\n",
    "for sport in data:\n",
    "    for team in data[sport]:\n",
    "        teamName = team['teamName']\n",
    "        city = team['city']\n",
    "        state = team['state']\n",
    "        metroArea = team['metroArea']\n",
    "        timeZone = timezones[metroArea]\n",
    "        team.update({'league':sport})\n",
    "        team.update({'timeZone':timeZone})\n",
    "        if sport != 'MLS':\n",
    "            team.update({'logo': add_ons[teamName]['logo']})\n",
    "            team.update({'color': add_ons[teamName]['color']})\n",
    "            team.update({'alternateColor': add_ons[teamName]['alternateColor']})\n",
    "            team.update({'teamLink': add_ons[teamName]['teamLink']})\n",
    "        if metroArea not in clean_data:\n",
    "            clean_data.update({metroArea: [team]})\n",
    "        else:\n",
    "            area = clean_data[metroArea]\n",
    "            area.append(team)\n",
    "            clean_data.update({metroArea: area})\n",
    "        \n",
    "        all_teams_info.update({teamName: team})\n"
   ]
  },
  {
   "cell_type": "code",
   "execution_count": null,
   "id": "e742ca42-cea2-4011-8358-b562e7a555c7",
   "metadata": {},
   "outputs": [],
   "source": [
    "final_data = []\n",
    "number = 0\n",
    "for x in clean_data:\n",
    "    dict = {\n",
    "        'id': number,\n",
    "        'metroArea': x,\n",
    "            'teams': clean_data[x]\n",
    "           }\n",
    "    final_data.append(dict)\n",
    "    number += 1"
   ]
  },
  {
   "cell_type": "code",
   "execution_count": null,
   "id": "29c4d665-5661-4267-a194-12bba8e3e7e5",
   "metadata": {},
   "outputs": [],
   "source": [
    "final_data = sorted(final_data, key=lambda d: d['metroArea'])"
   ]
  },
  {
   "cell_type": "code",
   "execution_count": null,
   "id": "7ef9325b-ff97-4875-9848-58b7caeacae9",
   "metadata": {},
   "outputs": [],
   "source": [
    "json_object = json.dumps(final_data, indent=4)\n",
    "with open(\"metro_area_teams.json\", \"w\") as outfile:\n",
    "    outfile.write(json_object)"
   ]
  },
  {
   "cell_type": "code",
   "execution_count": null,
   "id": "dd57f399-9a1c-4c05-8bef-421dac3f3f44",
   "metadata": {},
   "outputs": [],
   "source": [
    "len(final_data)"
   ]
  },
  {
   "cell_type": "code",
   "execution_count": null,
   "id": "d65ed8c5-d046-4c4c-881c-7f9511cbf060",
   "metadata": {},
   "outputs": [],
   "source": [
    "with open('MetroTeams.js', 'w') as f:\n",
    "    f.write(f'export const TeamsCatalog = {final_data}')\n",
    "    f.close()"
   ]
  },
  {
   "cell_type": "code",
   "execution_count": null,
   "id": "48b111ec-dd72-4429-b8c6-76761354ae32",
   "metadata": {},
   "outputs": [],
   "source": [
    "with open('AllTeamsInfo.js', 'w') as f:\n",
    "    f.write(f'export const AllTeams = {all_teams_info}')\n",
    "    f.close()"
   ]
  }
 ],
 "metadata": {
  "kernelspec": {
   "display_name": "Python 3 (ipykernel)",
   "language": "python",
   "name": "python3"
  },
  "language_info": {
   "codemirror_mode": {
    "name": "ipython",
    "version": 3
   },
   "file_extension": ".py",
   "mimetype": "text/x-python",
   "name": "python",
   "nbconvert_exporter": "python",
   "pygments_lexer": "ipython3",
   "version": "3.10.9"
  }
 },
 "nbformat": 4,
 "nbformat_minor": 5
}
