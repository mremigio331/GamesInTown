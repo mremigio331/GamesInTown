{
 "cells": [
  {
   "cell_type": "code",
   "execution_count": 1,
   "id": "e95e9b08-b2c7-4918-89ff-3f3ac9dc9682",
   "metadata": {},
   "outputs": [],
   "source": [
    "import json\n",
    "import requests"
   ]
  },
  {
   "cell_type": "code",
   "execution_count": 2,
   "id": "64ab30ff-1c76-40a4-bf90-06b762080801",
   "metadata": {},
   "outputs": [],
   "source": [
    "add_ons = {}\n",
    "errors = []"
   ]
  },
  {
   "cell_type": "code",
   "execution_count": 3,
   "id": "2bb987af-452b-4a66-9428-2ddd673258e2",
   "metadata": {},
   "outputs": [],
   "source": [
    "nhl_dict = requests.get('http://site.api.espn.com/apis/site/v2/sports/hockey/nhl/teams')\n",
    "nhl_dict = nhl_dict.json()\n",
    "\n",
    "mlb_dict = requests.get('http://site.api.espn.com/apis/site/v2/sports/baseball/mlb/teams')\n",
    "mlb_dict = mlb_dict.json()\n",
    "\n",
    "nfl_dict = requests.get('http://sports.core.api.espn.com/v2/sports/football/leagues/nfl/franchises?limit=50')\n",
    "nfl_dict = nfl_dict.json()\n",
    "\n",
    "nba_dict = requests.get('http://site.api.espn.com/apis/site/v2/sports/basketball/nba/teams')\n",
    "nba_dict = nba_dict.json()\n",
    "\n"
   ]
  },
  {
   "cell_type": "code",
   "execution_count": 4,
   "id": "9d4394b2-42d9-4639-8754-179843ee7cc3",
   "metadata": {},
   "outputs": [],
   "source": [
    "errors = []\n",
    "team_links = nfl_dict['items']\n",
    "for team in team_links:\n",
    "    team_info = requests.get(team['$ref'])\n",
    "    team_info = team_info.json()\n",
    "    teamLink = requests.get(team_info['team']['$ref'])\n",
    "    teamLink = teamLink.json()\n",
    "    name = teamLink['displayName']\n",
    "    logo = teamLink['logos'][0]['href']\n",
    "    color = teamLink['color']\n",
    "    alternateColor = teamLink['alternateColor']\n",
    "    try:\n",
    "        add_ons.update({\n",
    "            name: {\n",
    "                'logo': logo,\n",
    "                'color': color,\n",
    "                'alternateColor': alternateColor,\n",
    "                'teamLink': team_info['team']['$ref'],\n",
    "                'venue': {\n",
    "                    'name': teamLink['venue']['fullName'],\n",
    "                    'capacity': teamLink['venue']['capacity'],\n",
    "                    'link': teamLink['venue']['$ref']\n",
    "                }\n",
    "            }})\n",
    "    except Exception as e:\n",
    "        errors.append({'error': e, 'team_info': team_info, 'team_link': teamLink})\n",
    "    \n",
    "    \n"
   ]
  },
  {
   "cell_type": "code",
   "execution_count": 5,
   "id": "d023ae79-e29c-4472-8ecc-070c5f24f7e5",
   "metadata": {},
   "outputs": [
    {
     "data": {
      "text/plain": [
       "[]"
      ]
     },
     "execution_count": 5,
     "metadata": {},
     "output_type": "execute_result"
    }
   ],
   "source": [
    "errors"
   ]
  },
  {
   "cell_type": "code",
   "execution_count": null,
   "id": "2c4b5ae8-40ba-4289-92d9-3113dbdecff4",
   "metadata": {},
   "outputs": [],
   "source": []
  },
  {
   "cell_type": "code",
   "execution_count": 6,
   "id": "293819d3-35d0-4a82-85db-e6cd7e8d645c",
   "metadata": {},
   "outputs": [],
   "source": [
    "team_number = nhl_dict['sports'][0]['leagues'][0]['teams'][0]['team']['id']\n",
    "team_info = requests.get(f'http://site.api.espn.com/apis/site/v2/sports/hockey/nhl/teams/{team_number}')\n",
    "team_info = team_info.json()"
   ]
  },
  {
   "cell_type": "code",
   "execution_count": 7,
   "id": "5fb4297d-d63b-42df-9563-fd2d610ae141",
   "metadata": {},
   "outputs": [
    {
     "data": {
      "text/plain": [
       "dict_keys(['team'])"
      ]
     },
     "execution_count": 7,
     "metadata": {},
     "output_type": "execute_result"
    }
   ],
   "source": [
    "team_info.keys()"
   ]
  },
  {
   "cell_type": "code",
   "execution_count": 8,
   "id": "d2184f25-3cf2-4a4c-afa2-60f8906027ea",
   "metadata": {},
   "outputs": [
    {
     "data": {
      "text/plain": [
       "17174"
      ]
     },
     "execution_count": 8,
     "metadata": {},
     "output_type": "execute_result"
    }
   ],
   "source": [
    "team_info['team']['franchise']['venue']['capacity']"
   ]
  },
  {
   "cell_type": "code",
   "execution_count": 9,
   "id": "1ad303d6-7617-4fb0-8cbf-addcab3478e1",
   "metadata": {},
   "outputs": [],
   "source": [
    "errors = []\n",
    "for x in nhl_dict['sports'][0]['leagues'][0]['teams']:\n",
    "    team_number = x['team']['id']\n",
    "    team_link = f'http://site.api.espn.com/apis/site/v2/sports/hockey/nhl/teams/{team_number}'\n",
    "    team_info = requests.get(team_link)\n",
    "    team_info = team_info.json()\n",
    "    \n",
    "    \n",
    "    name = team_info['team']['name']\n",
    "    logo = team_info['team']['logos'][0]['href']\n",
    "    color = team_info['team']['color']\n",
    "    alternateColor = team_info['team']['alternateColor']\n",
    "    teamLink = team_link\n",
    "    try:\n",
    "        add_ons.update({\n",
    "            name: {\n",
    "                'logo': logo,\n",
    "                'color': color,\n",
    "                'alternateColor': alternateColor,\n",
    "                'teamLink': team_link,\n",
    "                'venue': {\n",
    "                    'name': team_info['team']['franchise']['venue']['fullName'],\n",
    "                    'capacity': team_info['team']['franchise']['venue']['capacity'],\n",
    "                    'link': team_info['team']['franchise']['venue']['$ref']\n",
    "                }\n",
    "            }})\n",
    "    except Exception as e:\n",
    "        errors.append({'error': e, 'team_info': team_info, 'team_link': teamLink})"
   ]
  },
  {
   "cell_type": "code",
   "execution_count": 10,
   "id": "22d48bc6-5bba-4ede-aa73-26467d781851",
   "metadata": {},
   "outputs": [
    {
     "data": {
      "text/plain": [
       "[]"
      ]
     },
     "execution_count": 10,
     "metadata": {},
     "output_type": "execute_result"
    }
   ],
   "source": [
    "errors"
   ]
  },
  {
   "cell_type": "code",
   "execution_count": 11,
   "id": "e0f1ba64-3504-4e11-bf26-f29ec998c554",
   "metadata": {},
   "outputs": [],
   "source": [
    "errors = []\n",
    "for x in nba_dict['sports'][0]['leagues'][0]['teams']:\n",
    "    name = x['team']['displayName']\n",
    "    logo = x['team']['logos'][0]['href']\n",
    "    color = x['team']['color']\n",
    "    alternateColor = x['team']['alternateColor']\n",
    "    try:\n",
    "        add_ons.update({\n",
    "            name: {\n",
    "                'logo': logo,\n",
    "                'color': color,\n",
    "                'alternateColor': alternateColor,\n",
    "                'teamLink': x['team']['links'][0]['href']\n",
    "            }})\n",
    "    except Exception as e:\n",
    "        errors.append({'error': e, 'team_info': x})"
   ]
  },
  {
   "cell_type": "code",
   "execution_count": 12,
   "id": "24ce4e1d-2cc4-4924-a3a0-3ecb60796055",
   "metadata": {},
   "outputs": [
    {
     "data": {
      "text/plain": [
       "[]"
      ]
     },
     "execution_count": 12,
     "metadata": {},
     "output_type": "execute_result"
    }
   ],
   "source": [
    "errors"
   ]
  },
  {
   "cell_type": "code",
   "execution_count": 13,
   "id": "b47d12bb-dac4-4ce4-b8e4-4ea6d04571f2",
   "metadata": {},
   "outputs": [],
   "source": [
    "errors = []\n",
    "for x in mlb_dict['sports'][0]['leagues'][0]['teams']:\n",
    "    name = x['team']['displayName']\n",
    "    logo = x['team']['logos'][0]['href']\n",
    "    color = x['team']['color']\n",
    "    alternateColor = x['team']['alternateColor']\n",
    "    try:\n",
    "        add_ons.update({\n",
    "            name: {\n",
    "                'logo': logo,\n",
    "                'color': color,\n",
    "                'alternateColor': alternateColor,\n",
    "                'teamLink': x['team']['links'][0]['href']\n",
    "            }})\n",
    "    except Exception as e:\n",
    "        errors.append({'error': e, 'teamLink': teamLink})"
   ]
  },
  {
   "cell_type": "code",
   "execution_count": 14,
   "id": "a951a8eb-e8b8-4212-afca-3026ee613fc8",
   "metadata": {},
   "outputs": [
    {
     "data": {
      "text/plain": [
       "[]"
      ]
     },
     "execution_count": 14,
     "metadata": {},
     "output_type": "execute_result"
    }
   ],
   "source": [
    "errors"
   ]
  },
  {
   "cell_type": "code",
   "execution_count": 15,
   "id": "1cd1d4f8-1fe2-4e7c-aaed-618a93188c2e",
   "metadata": {},
   "outputs": [],
   "source": [
    "f = open('teams.json')\n",
    "data = json.load(f)\n",
    "t = open('timezones.json')\n",
    "timezones = json.load(t)\n",
    "\n",
    "f = open('metro_area_venues.json')\n",
    "stadiums = json.load(f)\n"
   ]
  },
  {
   "cell_type": "code",
   "execution_count": 16,
   "id": "35dd2f1e-0b89-4c5f-b326-415bb6f42139",
   "metadata": {},
   "outputs": [
    {
     "data": {
      "text/plain": [
       "['MLB', 'MLS', 'NBA', 'NFL', 'NHL']"
      ]
     },
     "execution_count": 16,
     "metadata": {},
     "output_type": "execute_result"
    }
   ],
   "source": [
    "sorted(list(data.keys()))"
   ]
  },
  {
   "cell_type": "code",
   "execution_count": 17,
   "id": "cf5649bd-3db2-46ff-876e-7d3e67ea51b1",
   "metadata": {},
   "outputs": [
    {
     "data": {
      "text/plain": [
       "{'teamName': 'Arizona Diamondbacks',\n",
       " 'city': 'Phoenix',\n",
       " 'state': 'Arizona',\n",
       " 'metroArea': 'Phoenix'}"
      ]
     },
     "execution_count": 17,
     "metadata": {},
     "output_type": "execute_result"
    }
   ],
   "source": [
    "data['MLB'][0]"
   ]
  },
  {
   "cell_type": "code",
   "execution_count": 18,
   "id": "006048ce-2951-48f1-b706-5bb36dbbbdda",
   "metadata": {},
   "outputs": [],
   "source": [
    "clean_data = {}\n",
    "all_teams_info = {}\n",
    "for sport in data:\n",
    "    for team in data[sport]:\n",
    "        teamName = team['teamName']\n",
    "        city = team['city']\n",
    "        state = team['state']\n",
    "        metroArea = team['metroArea']\n",
    "        timeZone = timezones[metroArea]\n",
    "        team.update({'league':sport})\n",
    "        team.update({'timeZone':timeZone})\n",
    "        if sport != 'MLS':\n",
    "            try:\n",
    "                team.update({'logo': add_ons[teamName]['logo']})\n",
    "            except:\n",
    "                team.update({'logo': ''})\n",
    "            try:\n",
    "                team.update({'color': add_ons[teamName]['color']})\n",
    "            except:\n",
    "                team.update({'color': ''})\n",
    "            try:\n",
    "                team.update({'alternateColor': add_ons[teamName]['alternateColor']})\n",
    "            except:\n",
    "                team.update({'alternateColor': ''})\n",
    "            try:\n",
    "                team.update({'teamLink': add_ons[teamName]['teamLink']})\n",
    "            except:\n",
    "                team.update({'teamLink': ''})\n",
    "        if metroArea not in clean_data:\n",
    "            clean_data.update({metroArea: [team]})\n",
    "        else:\n",
    "            area = clean_data[metroArea]\n",
    "            area.append(team)\n",
    "            clean_data.update({metroArea: area})\n",
    "        \n",
    "        all_teams_info.update({teamName: team})\n"
   ]
  },
  {
   "cell_type": "code",
   "execution_count": 19,
   "id": "e742ca42-cea2-4011-8358-b562e7a555c7",
   "metadata": {},
   "outputs": [],
   "source": [
    "final_data = []\n",
    "number = 0\n",
    "for x in clean_data:\n",
    "    dict = {\n",
    "        'id': number,\n",
    "        'metroArea': x,\n",
    "            'teams': clean_data[x]\n",
    "           }\n",
    "    final_data.append(dict)\n",
    "    number += 1"
   ]
  },
  {
   "cell_type": "code",
   "execution_count": 20,
   "id": "43d5deb4-8e8f-4941-9a2e-3ec7c8ba1f3c",
   "metadata": {},
   "outputs": [],
   "source": [
    "def get_stadiums(metro_area, stadiums):\n",
    "    for x in stadiums:\n",
    "        if stadiums[x]['metro_area'] == metro_area:            \n",
    "            return stadiums[x]['stadiums']\n",
    "    print(f'Could not find {metro_area}')\n",
    "    return []"
   ]
  },
  {
   "cell_type": "code",
   "execution_count": null,
   "id": "56dbbdd0-e70a-403e-a244-ef2c35536070",
   "metadata": {},
   "outputs": [],
   "source": []
  },
  {
   "cell_type": "code",
   "execution_count": 21,
   "id": "29c4d665-5661-4267-a194-12bba8e3e7e5",
   "metadata": {},
   "outputs": [],
   "source": [
    "final_data = sorted(final_data, key=lambda d: d['metroArea'])"
   ]
  },
  {
   "cell_type": "code",
   "execution_count": 22,
   "id": "ccdd5457-5c17-4de6-be81-1cd77f88a7c5",
   "metadata": {},
   "outputs": [],
   "source": [
    "for_real_final_data = []"
   ]
  },
  {
   "cell_type": "code",
   "execution_count": 23,
   "id": "31f49433-15ec-41e2-9575-6ca60ee71444",
   "metadata": {},
   "outputs": [],
   "source": [
    "for x in final_data:\n",
    "    metro_area = x['metroArea']\n",
    "    metro_area_stadiums = get_stadiums(metro_area, stadiums) \n",
    "    x.update({'stadiums' : metro_area_stadiums})\n",
    "    \n",
    "    "
   ]
  },
  {
   "cell_type": "code",
   "execution_count": null,
   "id": "ca31fb54-e676-4004-a22e-516344889245",
   "metadata": {},
   "outputs": [],
   "source": []
  },
  {
   "cell_type": "code",
   "execution_count": 24,
   "id": "7ef9325b-ff97-4875-9848-58b7caeacae9",
   "metadata": {},
   "outputs": [],
   "source": [
    "json_object = json.dumps(final_data, indent=4)\n",
    "with open(\"metro_area_teamsnew.json\", \"w\") as outfile:\n",
    "    outfile.write(json_object)"
   ]
  },
  {
   "cell_type": "code",
   "execution_count": 25,
   "id": "dd57f399-9a1c-4c05-8bef-421dac3f3f44",
   "metadata": {},
   "outputs": [
    {
     "data": {
      "text/plain": [
       "50"
      ]
     },
     "execution_count": 25,
     "metadata": {},
     "output_type": "execute_result"
    }
   ],
   "source": [
    "len(final_data)"
   ]
  },
  {
   "cell_type": "code",
   "execution_count": 26,
   "id": "d65ed8c5-d046-4c4c-881c-7f9511cbf060",
   "metadata": {},
   "outputs": [],
   "source": [
    "with open('MetroTeamsNewNew.js', 'w') as f:\n",
    "    f.write(f'export const TeamsCatalog = {final_data}')\n",
    "    f.close()"
   ]
  },
  {
   "cell_type": "code",
   "execution_count": 27,
   "id": "48b111ec-dd72-4429-b8c6-76761354ae32",
   "metadata": {},
   "outputs": [],
   "source": [
    "with open('AllTeamsInfoNew.js', 'w') as f:\n",
    "    f.write(f'export const AllTeams = {all_teams_info}')\n",
    "    f.close()"
   ]
  }
 ],
 "metadata": {
  "kernelspec": {
   "display_name": "Python 3 (ipykernel)",
   "language": "python",
   "name": "python3"
  },
  "language_info": {
   "codemirror_mode": {
    "name": "ipython",
    "version": 3
   },
   "file_extension": ".py",
   "mimetype": "text/x-python",
   "name": "python",
   "nbconvert_exporter": "python",
   "pygments_lexer": "ipython3",
   "version": "3.11.5"
  }
 },
 "nbformat": 4,
 "nbformat_minor": 5
}
